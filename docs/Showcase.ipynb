{
 "cells": [
  {
   "cell_type": "code",
   "execution_count": null,
   "metadata": {},
   "outputs": [],
   "source": [
    "[run]\n",
    "branch = True\n",
    "source = attr\n",
    "\n",
    "[paths]\n",
    "source =\n",
    "   src/attr\n",
    "   .tox/*/lib/python*/site-packages/attr\n",
    "   .tox/pypy*/site-packages/attr"
   ]
  },
  {
   "cell_type": "code",
   "execution_count": 1,
   "metadata": {},
   "outputs": [
    {
     "ename": "SyntaxError",
     "evalue": "invalid syntax (<ipython-input-1-bf0e0cddea26>, line 6)",
     "output_type": "error",
     "traceback": [
      "\u001b[0;36m  File \u001b[0;32m\"<ipython-input-1-bf0e0cddea26>\"\u001b[0;36m, line \u001b[0;32m6\u001b[0m\n\u001b[0;31m    source:::[\u001b[0m\n\u001b[0m           ^\u001b[0m\n\u001b[0;31mSyntaxError\u001b[0m\u001b[0;31m:\u001b[0m invalid syntax\n"
     ]
    }
   ],
   "source": [
    "### run ###\n",
    "branch: True\n",
    "source: attr\n",
    "\n",
    "% +NODUPLICATES -FOO\n",
    "### paths ###\n",
    "source:::[\n",
    "\n",
    "src/attr\n",
    ".tox/*/lib/python*/site-packages/attr\n",
    ".tox/pypy*/site-packages/attr\n",
    "\n",
    "]:::  \n"
   ]
  },
  {
   "cell_type": "code",
   "execution_count": null,
   "metadata": {},
   "outputs": [],
   "source": [
    "from stay import loads\n",
    "from pydantic import BaseModel\n",
    "from typing import Optional\n",
    "\n",
    "class config(BaseModel):\n",
    "    run: Optional[int]\n",
    "    do: Optional[str]\n",
    "\n",
    "with open(test1) as file:\n",
    "    for j in parse(file):\n",
    "        print(Item(j))"
   ]
  }
 ],
 "metadata": {
  "kernelspec": {
   "display_name": "Python 3",
   "language": "python",
   "name": "python3"
  },
  "language_info": {
   "codemirror_mode": {
    "name": "ipython",
    "version": 3
   },
   "file_extension": ".py",
   "mimetype": "text/x-python",
   "name": "python",
   "nbconvert_exporter": "python",
   "pygments_lexer": "ipython3",
   "version": "3.7.0"
  }
 },
 "nbformat": 4,
 "nbformat_minor": 2
}
