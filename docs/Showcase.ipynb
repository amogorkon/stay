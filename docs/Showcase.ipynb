{
 "cells": [
  {
   "cell_type": "code",
   "execution_count": null,
   "metadata": {},
   "outputs": [],
   "source": [
    "[run]\n",
    "branch = True\n",
    "source = attr\n",
    "\n",
    "[paths]\n",
    "source =\n",
    "   src/attr\n",
    "   .tox/*/lib/python*/site-packages/attr\n",
    "   .tox/pypy*/site-packages/attr"
   ]
  },
  {
   "cell_type": "raw",
   "metadata": {},
   "source": [
    "### run ###\n",
    "branch: True\n",
    "source: attr\n",
    "\n",
    "### paths ###\n",
    "source:::[\n",
    "\n",
    "src/attr\n",
    ".tox/*/lib/python*/site-packages/attr\n",
    ".tox/pypy*/site-packages/attr\n",
    "\n",
    "]:::  "
   ]
  },
  {
   "cell_type": "code",
   "execution_count": null,
   "metadata": {},
   "outputs": [],
   "source": [
    "from stay import loads\n",
    "from pydantic import BaseModel\n",
    "from typing import Optional\n",
    "\n",
    "class Config(BaseModel):\n",
    "    run: Optional[int]\n",
    "    do: Optional[str]\n",
    "\n",
    "with open(\"config.stay\") as file:\n",
    "    for d in parse(file):\n",
    "        pass\n",
    "    config = Config(**d)\n",
    "    if config.run:\n",
    "        pass # do stuff"
   ]
  }
 ],
 "metadata": {
  "kernelspec": {
   "display_name": "Python 3",
   "language": "python",
   "name": "python3"
  },
  "language_info": {
   "codemirror_mode": {
    "name": "ipython",
    "version": 3
   },
   "file_extension": ".py",
   "mimetype": "text/x-python",
   "name": "python",
   "nbconvert_exporter": "python",
   "pygments_lexer": "ipython3",
   "version": "3.7.0"
  }
 },
 "nbformat": 4,
 "nbformat_minor": 2
}
