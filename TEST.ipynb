{
 "cells": [
  {
   "cell_type": "code",
   "execution_count": 10,
   "metadata": {},
   "outputs": [
    {
     "name": "stdout",
     "output_type": "stream",
     "text": [
      "Overwriting test/test_units.py\n"
     ]
    }
   ],
   "source": [
    "%%writefile test/test_units.py\n",
    "\n",
    "# importing the sibling folder is not as easy as it should be..\n",
    "import os, sys\n",
    "here = os.path.split(os.path.abspath(os.path.dirname(__file__)))\n",
    "src = os.path.join(here[0], \"src/stay\")\n",
    "sys.path.insert(0,src)\n",
    "\n",
    "from stay import loads, dumps, load\n",
    "\n",
    "\n",
    "def test_docs():\n",
    "    text = \"\"\n",
    "    assert list(loads(text)) == [{}]\n",
    "    \n",
    "    text = \"\"\"\n",
    "===\n",
    "===\n",
    "\"\"\"\n",
    "    assert list(loads(text)) == [{}, {}, {}]\n",
    "    \n",
    "def test_dict():\n",
    "    text = \"\"\"\n",
    "a: b\n",
    "b: a\n",
    "\"\"\"\n",
    "    assert list(loads(text)) == [{'a': 'b', 'b': 'a'}]\n",
    "\n",
    "    \n",
    "def test_comments():\n",
    "    text = \"# adsf\"\n",
    "    assert list(loads(text)) == [{}]\n",
    "    \n",
    "    text = \"\"\"\n",
    "###\n",
    "asdf\n",
    "###\n",
    "a: b\n",
    "# asdef\n",
    "\"\"\"\n",
    "    assert list(loads(text)) == [{'a': 'b'}]\n",
    "    \n",
    "    text = \"\"\"\n",
    "### asdf ###\n",
    "a: b\n",
    "\"\"\"\n",
    "    assert list(loads(text)) == [{'a': 'b'}]\n",
    "    \n",
    "def test_long():\n",
    "    text = \"\"\"\n",
    "foo:::\n",
    "1\n",
    "2\n",
    "3\n",
    "\n",
    "\n",
    ":::   \n",
    "\"\"\"\n",
    "    assert list(loads(text)) == [{'foo': '1\\n2\\n3\\n\\n'}]\n",
    "\n",
    "def test_complex():\n",
    "    text = \"\"\"\n",
    "name: \n",
    "    family: adsf\n",
    "    call: \n",
    "        foo:::\n",
    "1\n",
    "2\n",
    ":::    \n",
    "\"\"\"\n",
    "    assert list(loads(text)) == [{'name': {\"family\": \"adsf\", \"call\": \n",
    "                                           {\"foo\": \"1\\n2\"}}}]\n",
    "    \n",
    "def test_list():\n",
    "    text = \"\"\"\n",
    "matrix:::[\n",
    "\n",
    "[1 2 3]\n",
    "[4 5 6]\n",
    "[7 8 9]\n",
    "foo bar\n",
    "]:::\n",
    "\"\"\"\n",
    "    assert list(loads(text)) == [{\"matrix\": [['1','2','3'], \n",
    "                                             ['4','5','6'], \n",
    "                                             ['7','8','9'], \n",
    "                                             \"foo bar\"]}]\n",
    "    \n",
    "def test_dump_multi_docs():\n",
    "    it = [{1:2},{2:3}]\n",
    "    assert dumps(it) == \"1: 2\\n===\\n2: 3\\n\"\n",
    "\n",
    "def test_list_of_dicts():\n",
    "    \n",
    "    text = \"\"\"\n",
    "a: 123\n",
    "b: foo\n",
    "dict:::{\n",
    "+\n",
    "a: 1\n",
    "a: 2\n",
    "+\n",
    "a: 2\n",
    "b: 3\n",
    "}:::\n",
    "\"\"\"\n",
    "    \"\"\"assert list(loads(text)) == [{\"a\":\"123\", \"b\":\"foo\", \n",
    "                                    \"dict\":[{\"a\":\"2\"}, \n",
    "                                            {\"a\":\"2\", \"b\":\"3\"}]\n",
    "                                            }]\n",
    "    \"\"\""
   ]
  },
  {
   "cell_type": "code",
   "execution_count": null,
   "metadata": {},
   "outputs": [],
   "source": [
    "%%writefile test_functionality.py\n",
    "\n",
    "import os, sys\n",
    "here = os.path.split(os.path.abspath(os.path.dirname(__file__)))\n",
    "src = os.path.join(here[0], \"src/stay\")\n",
    "sys.path.insert(0,src)\n",
    "print(sys.path)\n",
    "\n",
    "from stay import dumps, loads, load\n",
    "from pydantic.dataclasses import dataclass\n",
    "from typing import List\n",
    "from dataclasses import asdict\n",
    "\n",
    "d = {\"2\": \"\"\"asdf\\nadsf\"\"\"}\n",
    "assert d == list(loads(dumps(d)))[0]\n",
    "\n",
    "@dataclass\n",
    "class Foo:\n",
    "    num: int\n",
    "    foo: str\n",
    "    bar: str\n",
    "    baz: List[int]\n",
    "\n",
    "D1 = {\"num\":1, \"foo\": \"qwer\", \"bar\": \"asdf\\nadsf\", \"baz\": [1,2,3]}\n",
    "\n",
    "with open(\"test\", \"w\") as f:\n",
    "    f.write(dumps(D1))\n",
    "    \n",
    "with open(\"test\") as f:\n",
    "    for x in load(f):\n",
    "        D2 = asdict(Foo(**x))\n",
    "\n",
    "assert D1 == D2\n",
    "\n",
    "def test_string_roundtrip():\n",
    "    d = [{\"a\": '3', \"b\":'45'}]\n",
    "    s = dumps(d)\n",
    "    D = list(loads(s))\n",
    "    assert d == D"
   ]
  },
  {
   "cell_type": "code",
   "execution_count": null,
   "metadata": {},
   "outputs": [],
   "source": [
    "from enum import Enum\n",
    "\n",
    "d = Enum(\"Directive\", \"\")"
   ]
  },
  {
   "cell_type": "code",
   "execution_count": null,
   "metadata": {},
   "outputs": [],
   "source": [
    "it = [{\"a\": 2}, {\"a\":3, \"b\":3, \"c\":[1,2,3]}]\n",
    "dumps(it)"
   ]
  },
  {
   "cell_type": "code",
   "execution_count": null,
   "metadata": {},
   "outputs": [],
   "source": [
    "it = [{1:[1,2,3], 2:3}]\n",
    "dumps(it)"
   ]
  },
  {
   "cell_type": "code",
   "execution_count": null,
   "metadata": {},
   "outputs": [],
   "source": [
    "it = [{1:2},{2:3}]\n",
    "dumps(it)"
   ]
  },
  {
   "cell_type": "code",
   "execution_count": 3,
   "metadata": {},
   "outputs": [
    {
     "data": {
      "text/plain": [
       "[{'a': '5', 'b': ['1,2,3'], 'c': {'d': '  02  ', 'e': ''}}]"
      ]
     },
     "execution_count": 3,
     "metadata": {},
     "output_type": "execute_result"
    }
   ],
   "source": [
    "from stay import __version__, loads, dumps\n",
    "\n",
    "t = \"\"\"\n",
    "a: 3\n",
    "b: [1,2,3]\n",
    "a: 5\n",
    "c:\n",
    "    d:\"  02  \n",
    "    e:::\n",
    "\n",
    ":::\n",
    "\"\"\"\n",
    "\n",
    "list(loads(t))"
   ]
  },
  {
   "cell_type": "code",
   "execution_count": null,
   "metadata": {},
   "outputs": [],
   "source": [
    "__version__"
   ]
  },
  {
   "cell_type": "code",
   "execution_count": 4,
   "metadata": {},
   "outputs": [
    {
     "data": {
      "text/plain": [
       "[{'foo': '::{', 'a': '3', '***': {}}]"
      ]
     },
     "execution_count": 4,
     "metadata": {},
     "output_type": "execute_result"
    }
   ],
   "source": [
    "from stay import __version__, loads, dumps\n",
    "\n",
    "t = \"\"\"\n",
    "foo:::{\n",
    "a: 2\n",
    "***\n",
    "a: 3\n",
    "}:::\n",
    "\"\"\"\n",
    "\n",
    "list(loads(t))"
   ]
  },
  {
   "cell_type": "code",
   "execution_count": 3,
   "metadata": {},
   "outputs": [
    {
     "data": {
      "text/plain": [
       "[{'}': '::foo'}]"
      ]
     },
     "execution_count": 3,
     "metadata": {},
     "output_type": "execute_result"
    }
   ],
   "source": [
    "from stay import __version__, loads\n",
    "t = \"\"\"\n",
    "foo:::<\n",
    "bar:::<\n",
    "\"  a\":\"  adsf   \"\n",
    "b: [1 2 3 [4 [5]]]\n",
    "c:\n",
    "    d: 23\n",
    ">:::bar\n",
    "bar: 34\n",
    "\n",
    ">:::foo\n",
    "\"\"\"\n",
    "list(loads(t))"
   ]
  },
  {
   "cell_type": "code",
   "execution_count": null,
   "metadata": {},
   "outputs": [],
   "source": [
    "{\"foo\": [{\"bar\": [{\"  a\": \"  adsf   \", \n",
    "                   \"b\": [1,2,3, [4, [5]]],\n",
    "                   \"c\": {\"d\": 23}},\n",
    "                  \n",
    "                  \n",
    "                  \n",
    "                  }]}]"
   ]
  },
  {
   "cell_type": "code",
   "execution_count": null,
   "metadata": {},
   "outputs": [],
   "source": [
    "t = \"\"\"\n",
    "foo:::[\n",
    "a: 1\n",
    "b:\n",
    "    c: 3\n",
    "]\n",
    "\"\"\""
   ]
  },
  {
   "cell_type": "code",
   "execution_count": null,
   "metadata": {},
   "outputs": [],
   "source": [
    "{\"foo\": [{\"a\": 1}, {\"b\": {\"c\": 3}}]}"
   ]
  },
  {
   "cell_type": "code",
   "execution_count": null,
   "metadata": {},
   "outputs": [],
   "source": [
    "matrix:::[\n",
    "[1 2 3]\n",
    "[4 5 6]\n",
    "foo bar [7 8 9 [ß]] adf\n",
    "]\n",
    "\n",
    "[[1,2,3],[4,5,6], \"foo bar\", [7,8,9, [\"ß\"]] \"adf\"]"
   ]
  }
 ],
 "metadata": {
  "kernelspec": {
   "display_name": "Python 3",
   "language": "python",
   "name": "python3"
  },
  "language_info": {
   "codemirror_mode": {
    "name": "ipython",
    "version": 3
   },
   "file_extension": ".py",
   "mimetype": "text/x-python",
   "name": "python",
   "nbconvert_exporter": "python",
   "pygments_lexer": "ipython3",
   "version": "3.7.1"
  }
 },
 "nbformat": 4,
 "nbformat_minor": 2
}
